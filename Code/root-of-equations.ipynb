{
 "cells": [
  {
   "cell_type": "markdown",
   "metadata": {},
   "source": [
    "## Root of Equations"
   ]
  },
  {
   "cell_type": "code",
   "execution_count": 1,
   "metadata": {},
   "outputs": [],
   "source": [
    "import numpy as np"
   ]
  },
  {
   "cell_type": "code",
   "execution_count": 12,
   "metadata": {},
   "outputs": [],
   "source": [
    "# f(x) is the function\n",
    "def f(x):\n",
    "    return 3*x**3 - 2*x**2 - 8*x"
   ]
  },
  {
   "cell_type": "code",
   "execution_count": 13,
   "metadata": {},
   "outputs": [],
   "source": [
    "# g(x) is the first derivative of f(x)\n",
    "def g(x):\n",
    "    return 9*x**2 - 4*x - 8 "
   ]
  },
  {
   "cell_type": "markdown",
   "metadata": {},
   "source": [
    "#### Bisection Method"
   ]
  },
  {
   "cell_type": "code",
   "execution_count": 34,
   "metadata": {},
   "outputs": [],
   "source": [
    "def bisection_method(a, b, threshold=0.005):\n",
    "    f_a = f(a)\n",
    "    f_b = f(b)\n",
    "\n",
    "    # The requirement of bisection method is f(a) * f(b) < 0\n",
    "    # In other words, f(a) and f(b) must have different sign\n",
    "    if np.sign(f_a) == np.sign(f_b):\n",
    "        print(f\"There is no root between {a} and {b}\")\n",
    "        return\n",
    "\n",
    "    # Find the midpoint of a and b\n",
    "    c = (a + b)/2\n",
    "\n",
    "    f_c = f(c)\n",
    "\n",
    "    # If the absolute error is less than threshold, \n",
    "    # than the root is found\n",
    "    if np.abs(f_c) < threshold:\n",
    "        return round(c, 3)\n",
    "    \n",
    "    # Otherwise, continue the root finding\n",
    "    # If f(a) and f(c) have the same sign, \n",
    "    # then c will replace a\n",
    "    # Otherwise, c will replace b\n",
    "    if np.sign(f_a) == np.sign(f_c):\n",
    "        return bisection_method(c, b, threshold)\n",
    "    else:\n",
    "        return bisection_method(b, c, threshold)"
   ]
  },
  {
   "cell_type": "code",
   "execution_count": 35,
   "metadata": {},
   "outputs": [
    {
     "data": {
      "text/plain": [
       "2.0"
      ]
     },
     "execution_count": 35,
     "metadata": {},
     "output_type": "execute_result"
    }
   ],
   "source": [
    "# Assume the initial guess is between 1.9 and 2.1\n",
    "bisection_method(1.9, 2.1)"
   ]
  },
  {
   "cell_type": "markdown",
   "metadata": {},
   "source": [
    "#### Newton-Raphson Method"
   ]
  },
  {
   "cell_type": "code",
   "execution_count": 33,
   "metadata": {},
   "outputs": [],
   "source": [
    "def newton_raphson_method(x, threshold=0.005):\n",
    "    delta_x = (-1)*(f(x) / g(x))\n",
    "\n",
    "    # If delta_x is less than threshold, \n",
    "    # then the root is found\n",
    "    if abs(delta_x) < threshold:\n",
    "        return round(x, 3)\n",
    "\n",
    "    # Otherwise, continue with the root finding\n",
    "    return newton_raphson_method(x + delta_x)"
   ]
  },
  {
   "cell_type": "code",
   "execution_count": 36,
   "metadata": {},
   "outputs": [
    {
     "data": {
      "text/plain": [
       "2.0"
      ]
     },
     "execution_count": 36,
     "metadata": {},
     "output_type": "execute_result"
    }
   ],
   "source": [
    "newton_raphson_method(1.5)"
   ]
  }
 ],
 "metadata": {
  "kernelspec": {
   "display_name": "base",
   "language": "python",
   "name": "python3"
  },
  "language_info": {
   "codemirror_mode": {
    "name": "ipython",
    "version": 3
   },
   "file_extension": ".py",
   "mimetype": "text/x-python",
   "name": "python",
   "nbconvert_exporter": "python",
   "pygments_lexer": "ipython3",
   "version": "3.11.7"
  }
 },
 "nbformat": 4,
 "nbformat_minor": 2
}
