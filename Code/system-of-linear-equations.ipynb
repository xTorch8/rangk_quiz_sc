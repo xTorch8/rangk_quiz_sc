{
 "cells": [
  {
   "cell_type": "markdown",
   "metadata": {},
   "source": [
    "## System of Linear Equations"
   ]
  },
  {
   "cell_type": "code",
   "execution_count": 1,
   "metadata": {},
   "outputs": [],
   "source": [
    "import numpy as np"
   ]
  },
  {
   "cell_type": "code",
   "execution_count": 2,
   "metadata": {},
   "outputs": [],
   "source": [
    "x = [\n",
    "    [4, 2, -1], \n",
    "    [1, -5, 2], \n",
    "    [2, -1, -4]\n",
    "]\n",
    "\n",
    "y = [41, -10, 1]"
   ]
  },
  {
   "cell_type": "markdown",
   "metadata": {},
   "source": [
    "#### Gauss-Seidel Method"
   ]
  },
  {
   "cell_type": "code",
   "execution_count": 3,
   "metadata": {},
   "outputs": [],
   "source": [
    "# The requirement of Gauss-Seidel method is\n",
    "# the equations matrix must be diagonally dominant\n",
    "def is_diagonal_dominant(x):\n",
    "    matrix_x = np.array(x)\n",
    "    matrix_diagonal = np.diag(np.abs(matrix_x))\n",
    "\n",
    "    np.fill_diagonal(matrix_x, 0)\n",
    "\n",
    "    matrix_absolute = np.abs(matrix_x)\n",
    "    matrix_sum = np.sum(matrix_absolute, axis=1)\n",
    "\n",
    "    return np.all(matrix_diagonal > matrix_sum)"
   ]
  },
  {
   "cell_type": "code",
   "execution_count": 10,
   "metadata": {},
   "outputs": [],
   "source": [
    "def gauss_seidel_method(x, y, threshold=0.005, max_iteration=50):\n",
    "    if is_diagonal_dominant is False:\n",
    "        print(\"Matrix is not diagonally dominant\")\n",
    "        return\n",
    "    \n",
    "    x = np.array(x)\n",
    "    y = np.array(y)\n",
    "\n",
    "    matrix_diagonal = np.array(np.diag(x))\n",
    "    np.fill_diagonal(x, 0)\n",
    "\n",
    "    # Assume the initial guess is [0, 0, 0]\n",
    "    result_old = np.zeros(matrix_diagonal.size)\n",
    "\n",
    "    for iteration in range(max_iteration):\n",
    "        result_new = np.array(result_old)\n",
    "\n",
    "        # Compute the new value of x for each matrix row\n",
    "        for i, row in enumerate(x):\n",
    "            result_new[i] = (y[i] - np.dot(result_new, row))/matrix_diagonal[i]\n",
    "\n",
    "        error = np.sqrt(np.dot(result_new - result_old, result_new - result_old)) \n",
    "\n",
    "        # If the error is less than threshold,\n",
    "        # then the solution is found\n",
    "        if error < threshold:\n",
    "            return result_new\n",
    "        \n",
    "        # Otherwise, continue finding the solution\n",
    "        result_old = result_new"
   ]
  },
  {
   "cell_type": "code",
   "execution_count": 11,
   "metadata": {},
   "outputs": [
    {
     "data": {
      "text/plain": [
       "array([8.53687446, 4.83108023, 2.81066717])"
      ]
     },
     "execution_count": 11,
     "metadata": {},
     "output_type": "execute_result"
    }
   ],
   "source": [
    "gauss_seidel_method(x, y)"
   ]
  }
 ],
 "metadata": {
  "kernelspec": {
   "display_name": "base",
   "language": "python",
   "name": "python3"
  },
  "language_info": {
   "codemirror_mode": {
    "name": "ipython",
    "version": 3
   },
   "file_extension": ".py",
   "mimetype": "text/x-python",
   "name": "python",
   "nbconvert_exporter": "python",
   "pygments_lexer": "ipython3",
   "version": "3.11.7"
  }
 },
 "nbformat": 4,
 "nbformat_minor": 2
}
